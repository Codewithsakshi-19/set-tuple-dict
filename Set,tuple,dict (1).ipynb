{
 "cells": [
  {
   "cell_type": "markdown",
   "id": "b9b00a39-502a-439a-a454-5cbcb3705fbb",
   "metadata": {},
   "source": [
    "## Q1. What are the characteristics of the tuples? Is tuple immutable?"
   ]
  },
  {
   "cell_type": "markdown",
   "id": "ea595100-8da3-4042-bef7-38c856007fdb",
   "metadata": {},
   "source": [
    "- Tuples are ordered collection of elements.\n",
    "- Elements in tuple can be of differnt data type including integers,float and strings.\n",
    "- Tuples are enclosed within paranthsis ().\n",
    "- Tuples are immutable,means once created their elements can be changed,added or remove.\n",
    "- Tuples can be heterogeneous,means the elements in tuple can be of different data type.\n",
    "- Tuples support indexing and slicing operations like list.\n",
    "- Tuples are generally used to store collections of elements which should not be changed such as coordinates,databases and records."
   ]
  },
  {
   "cell_type": "markdown",
   "id": "e8fd751f-81c4-4e33-9b2c-1dbf9a7d4c46",
   "metadata": {},
   "source": [
    "## Q2. What are the two tuple methods in python? Give an example of each method. Give a reason why tuples have only two in-built methods as compared to Lists."
   ]
  },
  {
   "cell_type": "raw",
   "id": "32bf60b3-ea30-4f8d-b666-c08ef100d953",
   "metadata": {},
   "source": [
    "Tuples has fewer methods as compare to the lists because of their immutability.Since tuple can not be modified after creation so there is no need of methods like\n",
    "append(),remove() or pop() that modified the contents of tuple.The limited number of methods for tuple reflect their intended use as immutable data structure,often used for storing fixed collection of values.\n",
    "\n",
    "These are the two tuple methods :\n",
    "\n",
    "- count()\n",
    " \n",
    "my_tuple = (1, 2, 3, 2, 4, 2)\n",
    "count_of_2 = my_tuple.count(2)\n",
    "print(count_of_2)  # Output: 3\n",
    "\n",
    "\n",
    "- index()\n",
    "\n",
    "my_tuple = ('a', 'b', 'c', 'a', 'd')\n",
    "index_of_a = my_tuple.index('a')\n",
    "print(index_of_a)  # Output: 0\n"
   ]
  },
  {
   "cell_type": "markdown",
   "id": "6fad943f-0de7-4349-addb-44adba05a684",
   "metadata": {},
   "source": [
    "## Q3. Which collection datatypes in python do not allow duplicate items? Write a code using a set to remove duplicates from the given list.\n",
    "### List = [1, 1, 1, 2, 1, 3, 1, 4, 2, 1, 2, 2, 2, 3, 2, 4, 3, 1, 3, 2, 3, 3, 3, 4, 4, 1, 4, 2, 4, 3, 4, 4]"
   ]
  },
  {
   "cell_type": "markdown",
   "id": "be39af60-3b0d-40d7-92ea-8893d672aef4",
   "metadata": {},
   "source": [
    "- Set data type in python do not allow duplicate elements.Set is generally used to restrict the duplicate elements to be entered in the store values.One can use set to remove duplicates elements.\n",
    "\n",
    "- list=[1, 1, 1, 2, 1, 3, 1, 4, 2, 1, 2, 2, 2, 3, 2, 4, 3, 1, 3, 2, 3, 3, 3, 4, 4, 1, 4, 2, 4, 3, 4, 4]\n",
    "\n",
    "- We will typecast this list into set...then duplicates will be automatically removed.\n"
   ]
  },
  {
   "cell_type": "code",
   "execution_count": 1,
   "id": "0eab98c5-790e-48e3-ae81-ec89fc5cd740",
   "metadata": {},
   "outputs": [
    {
     "name": "stdout",
     "output_type": "stream",
     "text": [
      "{1, 2, 3, 4}\n"
     ]
    }
   ],
   "source": [
    "list=[1, 1, 1, 2, 1, 3, 1, 4, 2, 1, 2, 2, 2, 3, 2, 4, 3, 1, 3, 2, 3, 3, 3, 4, 4, 1, 4, 2, 4, 3, 4, 4]\n",
    "\n",
    "list_1=set(list)\n",
    "\n",
    "print(list_1)"
   ]
  },
  {
   "cell_type": "markdown",
   "id": "2aa11214-37b8-4158-8fd0-663585e57a89",
   "metadata": {},
   "source": [
    "## Q4. Explain the difference between the union() and update() methods for a set. Give an example of each method."
   ]
  },
  {
   "cell_type": "raw",
   "id": "0fc3be44-4fc9-4b2a-9f3c-ed4f77cee28a",
   "metadata": {},
   "source": [
    "The union() and update() method in python sets are used to combine sets,but they are differ in their approach and the way they modified the original sets.\n",
    "\n",
    "1.union() method:\n",
    "    The union() method returns a new set containing all the unique elements from both sets wihtout modifying the original sets.\n",
    "    It takes one or more sets as arguments and return a new set containing union of all sets.\n",
    "    The original set remain unchanged.\n"
   ]
  },
  {
   "cell_type": "code",
   "execution_count": 5,
   "id": "e54176cf-92c3-47d4-b86c-7a26d548eb68",
   "metadata": {},
   "outputs": [
    {
     "name": "stdout",
     "output_type": "stream",
     "text": [
      "new set : {1, 2, 3, 4, 5}\n",
      "set1 : {1, 2, 3}\n",
      "set2 : {3, 4, 5}\n"
     ]
    }
   ],
   "source": [
    "# Example of union method\n",
    "set1={1,2,3}\n",
    "set2={3,4,5}\n",
    "\n",
    "new_set=set1.union(set2)\n",
    "print(\"new set :\",new_set)\n",
    "print(\"set1 :\",set1)\n",
    "print(\"set2 :\",set2)"
   ]
  },
  {
   "cell_type": "raw",
   "id": "dd4207b6-ba56-466d-a603-7e6d57c66493",
   "metadata": {},
   "source": [
    "2.update() method:\n",
    "    The update method modified the origial set by adding the elements from another iterable(such as another set,list or tuples.)\n",
    "    It takes one or more iterables as arguments and add elements from these iterables to the original set.\n",
    "    If there are duplicate elements they are automatically removed because set cannot be conatin duplicate elements."
   ]
  },
  {
   "cell_type": "code",
   "execution_count": 9,
   "id": "8a8a75a9-d705-44cb-901b-cb4b6cb2ea2c",
   "metadata": {},
   "outputs": [
    {
     "name": "stdout",
     "output_type": "stream",
     "text": [
      "set1 : {1, 2, 3, 4, 5}\n",
      "set2 : {3, 4, 5}\n"
     ]
    }
   ],
   "source": [
    "# Example of update method\n",
    "set1={1,2,3}\n",
    "set2={3,4,5}\n",
    "\n",
    "set1.update(set2)\n",
    "print(\"set1 :\",set1)  ##original set modified\n",
    "print(\"set2 :\",set2)  ## original set unchanged"
   ]
  },
  {
   "cell_type": "markdown",
   "id": "9eebe8da-0d6e-45fd-beb8-d27ee7778b1d",
   "metadata": {},
   "source": [
    "## Q5. What is a dictionary? Give an example. Also, state whether a dictionary is ordered or unordered."
   ]
  },
  {
   "cell_type": "raw",
   "id": "58ade894-8f2e-48dc-8a5a-5ebc482ef1ec",
   "metadata": {},
   "source": [
    "A dictionary in Python is an unordered collection of key-value pairs. Each key is associated with a value, allowing you to quickly retrieve the value using its\n",
    "corresponding key. Dictionaries are defined using curly braces {} and consist of comma-separated key-value pairs in the form key: value."
   ]
  },
  {
   "cell_type": "code",
   "execution_count": 21,
   "id": "63b147d0-f27c-4e13-96aa-6056c587ba5d",
   "metadata": {},
   "outputs": [
    {
     "name": "stdout",
     "output_type": "stream",
     "text": [
      "{'name': 'sakshi', 'age': 20, 'courses': ['data science', 'AI', 'java full stack']}\n",
      "20\n"
     ]
    }
   ],
   "source": [
    "# Example of dictionary\n",
    "dict1={'name':'sakshi','age':20,'courses':['data science','AI','java full stack']}\n",
    "\n",
    "print(dict1)\n",
    "\n",
    "\n",
    "# retriving the age from the dictionary\n",
    "print(dict1['age'])"
   ]
  },
  {
   "cell_type": "markdown",
   "id": "56dcd9cd-be82-4854-881d-961de99005fe",
   "metadata": {},
   "source": [
    "## Q6. Can we create a nested dictionary? If so, please give an example by creating a simple one-level nested dictionary."
   ]
  },
  {
   "cell_type": "raw",
   "id": "1972f2c1-a28c-46d8-ad02-6333f289a76d",
   "metadata": {},
   "source": [
    "Yes,we can create a nested dictionary in Python.In dictionary key can only be of string or int type but their corresponding can be of in the form of list,tuples\n",
    "or another dictionary."
   ]
  },
  {
   "cell_type": "code",
   "execution_count": 27,
   "id": "92f52094-7256-463b-81ad-743ce9125979",
   "metadata": {},
   "outputs": [
    {
     "name": "stdout",
     "output_type": "stream",
     "text": [
      "{'name': 'sakshi', 'age': 22, 'courses': {'sakshi': 'Data science masters', 'Gourav': 'Full stack web dev', 'Rahul': 'AI'}}\n",
      "{'sakshi': 'Data science masters', 'Gourav': 'Full stack web dev', 'Rahul': 'AI'}\n",
      "Gourav enrolled in : Full stack web dev\n"
     ]
    }
   ],
   "source": [
    "# Example of nested dictionary\n",
    "\n",
    "nest_dict={'name':'sakshi','age':22,'courses':{'sakshi':'Data science masters','Gourav':'Full stack web dev','Rahul':'AI'}}\n",
    "\n",
    "print(nest_dict)\n",
    "\n",
    "# Retriving the gourav courses\n",
    "\n",
    "print(nest_dict['courses'])\n",
    "print(\"Gourav enrolled in :\",nest_dict['courses']['Gourav'])"
   ]
  },
  {
   "cell_type": "markdown",
   "id": "5fea1324-492d-4bf1-bd30-f5604f676551",
   "metadata": {},
   "source": [
    "## Q7. Using setdefault() method, create key named topics in the given dictionary and also add the value of the key as this list ['Python', 'Machine Learning’, 'Deep Learning']\n",
    "- dict1 = {'language' : 'Python', 'course': 'Data Science Masters'}"
   ]
  },
  {
   "cell_type": "code",
   "execution_count": 28,
   "id": "de37c552-902c-4b92-a3e9-b7d6e924786a",
   "metadata": {},
   "outputs": [
    {
     "name": "stdout",
     "output_type": "stream",
     "text": [
      "{'language': 'Python', 'course': 'Data Science Masters', 'topics': ['Python', 'Machine Learning', 'Deep Learning']}\n"
     ]
    }
   ],
   "source": [
    "dict1 = {'language': 'Python', 'course': 'Data Science Masters'}\n",
    "\n",
    "dict1.setdefault('topics', ['Python', 'Machine Learning', 'Deep Learning'])\n",
    "\n",
    "print(dict1)"
   ]
  },
  {
   "cell_type": "markdown",
   "id": "a288d158-ffee-4e3d-ba70-0134f9a9c162",
   "metadata": {},
   "source": [
    "## Q8. What are the three view objects in dictionaries? Use the three in-built methods in python to display these three view objects for the given dictionary.\n",
    "- dict1 = {'Sport': 'Cricket' , 'Teams': ['India', 'Australia', 'England', 'South Africa', 'Sri Lanka', 'New Zealand']}"
   ]
  },
  {
   "cell_type": "raw",
   "id": "7e1a7ce5-bcc5-41f5-adcd-c6363acda939",
   "metadata": {},
   "source": [
    "The items(), keys() and values() methods of dict class return view objects. These views are refreshed dynamically whenever any change occurs in the contents of their source dictionary object."
   ]
  },
  {
   "cell_type": "code",
   "execution_count": 3,
   "id": "c0198edb-acea-4914-b97b-2deef06e7822",
   "metadata": {},
   "outputs": [
    {
     "name": "stdout",
     "output_type": "stream",
     "text": [
      "dict_items([('Sport', 'Cricket'), ('Teams', ['India', 'Australia', 'England', 'South Africa', 'Sri Lanka', 'New Zealand'])])\n",
      "dict_keys(['Sport', 'Teams'])\n",
      "dict_values(['Cricket', ['India', 'Australia', 'England', 'South Africa', 'Sri Lanka', 'New Zealand']])\n"
     ]
    }
   ],
   "source": [
    "dict1 = {'Sport': 'Cricket' , 'Teams': ['India', 'Australia', 'England', 'South Africa', 'Sri Lanka', 'New Zealand']}\n",
    "\n",
    "# items example\n",
    "print(dict1.items())\n",
    "\n",
    "# keys example\n",
    "print(dict1.keys())\n",
    "\n",
    "#values example\n",
    "print(dict1.values())"
   ]
  }
 ],
 "metadata": {
  "kernelspec": {
   "display_name": "Python 3 (ipykernel)",
   "language": "python",
   "name": "python3"
  },
  "language_info": {
   "codemirror_mode": {
    "name": "ipython",
    "version": 3
   },
   "file_extension": ".py",
   "mimetype": "text/x-python",
   "name": "python",
   "nbconvert_exporter": "python",
   "pygments_lexer": "ipython3",
   "version": "3.10.8"
  }
 },
 "nbformat": 4,
 "nbformat_minor": 5
}
